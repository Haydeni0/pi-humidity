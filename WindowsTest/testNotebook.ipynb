{
 "cells": [
  {
   "cell_type": "code",
   "execution_count": 3,
   "source": [
    "# Data manipulation\r\n",
    "import pandas as pd\r\n",
    "import numpy as np\r\n",
    "from collections import deque\r\n",
    "import csv\r\n",
    "import dask.dataframe\r\n",
    "\r\n",
    "import os\r\n",
    "import time\r\n",
    "import datetime\r\n",
    "from itertools import count\r\n",
    "\r\n",
    "# Options for pandas\r\n",
    "pd.options.display.max_columns = 50\r\n",
    "pd.options.display.max_rows = 30\r\n",
    "\r\n",
    "# Visualizations\r\n",
    "import plotly\r\n",
    "import plotly.graph_objs as go\r\n",
    "import plotly.offline as ply\r\n",
    "\r\n",
    "plotly.offline.init_notebook_mode(connected=True)\r\n",
    "\r\n",
    "import cufflinks as cf\r\n",
    "\r\n",
    "cf.go_offline(connected=True)\r\n",
    "cf.set_config_file(theme=\"white\")\r\n",
    "\r\n",
    "import seaborn as sns\r\n",
    "import matplotlib.pyplot as plt\r\n",
    "import matplotlib.animation as animation\r\n",
    "\r\n",
    "# Autoreload extension\r\n",
    "if \"autoreload\" not in get_ipython().extension_manager.loaded:\r\n",
    "    %load_ext autoreload\r\n",
    "# nb_black extension\r\n",
    "if \"nb_black\" not in get_ipython().extension_manager.loaded:\r\n",
    "    %load_ext nb_black\r\n",
    "\r\n",
    "%autoreload 2"
   ],
   "outputs": [
    {
     "output_type": "display_data",
     "data": {
      "text/html": [
       "        <script type=\"text/javascript\">\n",
       "        window.PlotlyConfig = {MathJaxConfig: 'local'};\n",
       "        if (window.MathJax) {MathJax.Hub.Config({SVG: {font: \"STIX-Web\"}});}\n",
       "        if (typeof require !== 'undefined') {\n",
       "        require.undef(\"plotly\");\n",
       "        requirejs.config({\n",
       "            paths: {\n",
       "                'plotly': ['https://cdn.plot.ly/plotly-2.3.1.min']\n",
       "            }\n",
       "        });\n",
       "        require(['plotly'], function(Plotly) {\n",
       "            window._Plotly = Plotly;\n",
       "        });\n",
       "        }\n",
       "        </script>\n",
       "        "
      ]
     },
     "metadata": {}
    },
    {
     "output_type": "display_data",
     "data": {
      "text/html": [
       "        <script type=\"text/javascript\">\n",
       "        window.PlotlyConfig = {MathJaxConfig: 'local'};\n",
       "        if (window.MathJax) {MathJax.Hub.Config({SVG: {font: \"STIX-Web\"}});}\n",
       "        if (typeof require !== 'undefined') {\n",
       "        require.undef(\"plotly\");\n",
       "        requirejs.config({\n",
       "            paths: {\n",
       "                'plotly': ['https://cdn.plot.ly/plotly-2.3.1.min']\n",
       "            }\n",
       "        });\n",
       "        require(['plotly'], function(Plotly) {\n",
       "            window._Plotly = Plotly;\n",
       "        });\n",
       "        }\n",
       "        </script>\n",
       "        "
      ]
     },
     "metadata": {}
    },
    {
     "output_type": "display_data",
     "data": {
      "application/javascript": "\n            setTimeout(function() {\n                var nbb_cell_id = 3;\n                var nbb_unformatted_code = \"# Data manipulation\\r\\nimport pandas as pd\\r\\nimport numpy as np\\r\\nfrom collections import deque\\r\\nimport csv\\r\\nimport dask.dataframe\\r\\n\\r\\nimport os\\r\\nimport time\\r\\nimport datetime\\r\\nfrom itertools import count\\r\\n\\r\\n# Options for pandas\\r\\npd.options.display.max_columns = 50\\r\\npd.options.display.max_rows = 30\\r\\n\\r\\n# Visualizations\\r\\nimport plotly\\r\\nimport plotly.graph_objs as go\\r\\nimport plotly.offline as ply\\r\\n\\r\\nplotly.offline.init_notebook_mode(connected=True)\\r\\n\\r\\nimport cufflinks as cf\\r\\n\\r\\ncf.go_offline(connected=True)\\r\\ncf.set_config_file(theme=\\\"white\\\")\\r\\n\\r\\nimport seaborn as sns\\r\\nimport matplotlib.pyplot as plt\\r\\nimport matplotlib.animation as animation\\r\\n\\r\\n# Autoreload extension\\r\\nif \\\"autoreload\\\" not in get_ipython().extension_manager.loaded:\\r\\n    %load_ext autoreload\\r\\n# nb_black extension\\r\\nif \\\"nb_black\\\" not in get_ipython().extension_manager.loaded:\\r\\n    %load_ext nb_black\\r\\n\\r\\n%autoreload 2\";\n                var nbb_formatted_code = \"# Data manipulation\\nimport pandas as pd\\nimport numpy as np\\nfrom collections import deque\\nimport csv\\nimport dask.dataframe\\n\\nimport os\\nimport time\\nimport datetime\\nfrom itertools import count\\n\\n# Options for pandas\\npd.options.display.max_columns = 50\\npd.options.display.max_rows = 30\\n\\n# Visualizations\\nimport plotly\\nimport plotly.graph_objs as go\\nimport plotly.offline as ply\\n\\nplotly.offline.init_notebook_mode(connected=True)\\n\\nimport cufflinks as cf\\n\\ncf.go_offline(connected=True)\\ncf.set_config_file(theme=\\\"white\\\")\\n\\nimport seaborn as sns\\nimport matplotlib.pyplot as plt\\nimport matplotlib.animation as animation\\n\\n# Autoreload extension\\nif \\\"autoreload\\\" not in get_ipython().extension_manager.loaded:\\n    %load_ext autoreload\\n# nb_black extension\\nif \\\"nb_black\\\" not in get_ipython().extension_manager.loaded:\\n    %load_ext nb_black\\n%autoreload 2\";\n                var nbb_cells = Jupyter.notebook.get_cells();\n                for (var i = 0; i < nbb_cells.length; ++i) {\n                    if (nbb_cells[i].input_prompt_number == nbb_cell_id) {\n                        if (nbb_cells[i].get_text() == nbb_unformatted_code) {\n                             nbb_cells[i].set_text(nbb_formatted_code);\n                        }\n                        break;\n                    }\n                }\n            }, 500);\n            ",
      "text/plain": [
       "<IPython.core.display.Javascript object>"
      ]
     },
     "metadata": {}
    }
   ],
   "metadata": {}
  },
  {
   "cell_type": "code",
   "execution_count": 5,
   "source": [
    "filepath = \"../WindowsTest/TestData/inside.csv\"\r\n",
    "data = pd.read_csv(filepath)\r\n",
    "data[\"Datetime\"] = pd.to_datetime(data[\"Datetime\"])\r\n",
    "\r\n",
    "dask_data = dask.dataframe.read_csv(filepath)\r\n",
    "dask_data[\"Datetime\"] = dask.dataframe.to_datetime(dask_data[\"Datetime\"])"
   ],
   "outputs": [
    {
     "output_type": "display_data",
     "data": {
      "application/javascript": "\n            setTimeout(function() {\n                var nbb_cell_id = 5;\n                var nbb_unformatted_code = \"filepath = \\\"../WindowsTest/TestData/inside.csv\\\"\\r\\ndata = pd.read_csv(filepath)\\r\\ndata[\\\"Datetime\\\"] = pd.to_datetime(data[\\\"Datetime\\\"])\\r\\n\\r\\ndask_data = dask.dataframe.read_csv(filepath)\\r\\ndask_data[\\\"Datetime\\\"] = dask.dataframe.to_datetime(dask_data[\\\"Datetime\\\"])\";\n                var nbb_formatted_code = \"filepath = \\\"../WindowsTest/TestData/inside.csv\\\"\\ndata = pd.read_csv(filepath)\\ndata[\\\"Datetime\\\"] = pd.to_datetime(data[\\\"Datetime\\\"])\\n\\ndask_data = dask.dataframe.read_csv(filepath)\\ndask_data[\\\"Datetime\\\"] = dask.dataframe.to_datetime(dask_data[\\\"Datetime\\\"])\";\n                var nbb_cells = Jupyter.notebook.get_cells();\n                for (var i = 0; i < nbb_cells.length; ++i) {\n                    if (nbb_cells[i].input_prompt_number == nbb_cell_id) {\n                        if (nbb_cells[i].get_text() == nbb_unformatted_code) {\n                             nbb_cells[i].set_text(nbb_formatted_code);\n                        }\n                        break;\n                    }\n                }\n            }, 500);\n            ",
      "text/plain": [
       "<IPython.core.display.Javascript object>"
      ]
     },
     "metadata": {}
    }
   ],
   "metadata": {
    "scrolled": true
   }
  },
  {
   "cell_type": "code",
   "execution_count": null,
   "source": [],
   "outputs": [
    {
     "output_type": "display_data",
     "data": {
      "application/javascript": "\n            setTimeout(function() {\n                var nbb_cell_id = 9;\n                var nbb_unformatted_code = \"def binSearchDatetime(\\n    Datetime: dask.dataframe.core.Series, target_datetime: datetime.datetime\\n) -> int:\\n    # Searches the dask list for the index of the greatest time smaller than target_datetime\\n    # Inputs:\\n    # - Datetime (Sorted list of datetime.datetime objects, in dask series format)\\n    # - target_datetime (datetime.datetime)\\n    #\\n    # Outputs:\\n    # - L_idx (int) - Index of the greatest datetime in the list smaller than target_datetime\\n\\n    #  Assume that Datetime is already sorted\\n    L_idx = 0\\n    R_idx = len(Datetime) - 1\\n    L = Datetime.loc[L_idx].compute().item()\\n    R = Datetime.loc[R_idx].compute().item()\\n\\n    idx_width = R_idx - L_idx\\n\\n    assert L < target_datetime < R\\n\\n    while idx_width > 1:\\n        M_idx = np.ceil(np.mean([L_idx, R_idx]))\\n        M = Datetime.loc[M_idx].compute().item()\\n\\n        if M > target_datetime:\\n            R_idx = M_idx\\n        elif M < target_datetime:\\n            L_idx = M_idx\\n        elif M == target_datetime:\\n            R_idx = M_idx\\n            L_idx = M_idx\\n        elif Datetime.loc[L_idx].compute().item() == target_datetime:\\n            R_idx = L_idx\\n\\n        idx_width = R_idx - L_idx\\n\\n    return L_idx\";\n                var nbb_formatted_code = \"def binSearchDatetime(\\n    Datetime: dask.dataframe.core.Series, target_datetime: datetime.datetime\\n) -> int:\\n    # Searches the dask list for the index of the greatest time smaller than target_datetime\\n    # Inputs:\\n    # - Datetime (Sorted list of datetime.datetime objects, in dask series format)\\n    # - target_datetime (datetime.datetime)\\n    #\\n    # Outputs:\\n    # - L_idx (int) - Index of the greatest datetime in the list smaller than target_datetime\\n\\n    #  Assume that Datetime is already sorted\\n    L_idx = 0\\n    R_idx = len(Datetime) - 1\\n    L = Datetime.loc[L_idx].compute().item()\\n    R = Datetime.loc[R_idx].compute().item()\\n\\n    idx_width = R_idx - L_idx\\n\\n    assert L < target_datetime < R\\n\\n    while idx_width > 1:\\n        M_idx = np.ceil(np.mean([L_idx, R_idx]))\\n        M = Datetime.loc[M_idx].compute().item()\\n\\n        if M > target_datetime:\\n            R_idx = M_idx\\n        elif M < target_datetime:\\n            L_idx = M_idx\\n        elif M == target_datetime:\\n            R_idx = M_idx\\n            L_idx = M_idx\\n        elif Datetime.loc[L_idx].compute().item() == target_datetime:\\n            R_idx = L_idx\\n\\n        idx_width = R_idx - L_idx\\n\\n    return L_idx\";\n                var nbb_cells = Jupyter.notebook.get_cells();\n                for (var i = 0; i < nbb_cells.length; ++i) {\n                    if (nbb_cells[i].input_prompt_number == nbb_cell_id) {\n                        if (nbb_cells[i].get_text() == nbb_unformatted_code) {\n                             nbb_cells[i].set_text(nbb_formatted_code);\n                        }\n                        break;\n                    }\n                }\n            }, 500);\n            ",
      "text/plain": [
       "<IPython.core.display.Javascript object>"
      ]
     },
     "metadata": {}
    }
   ],
   "metadata": {}
  },
  {
   "cell_type": "code",
   "execution_count": 6,
   "source": [
    "window_end_time = datetime.datetime.now()\r\n",
    "window_end_time = window_end_time.replace(microsecond=0)\r\n",
    "\r\n",
    "history_window = datetime.timedelta(minutes=20)\r\n",
    "\r\n",
    "window_start_time = window_end_time - history_window\r\n",
    "\r\n",
    "from utils import binSearchDatetime\r\n",
    "window_start_idx = binSearchDatetime(dask_data[\"Datetime\"], window_start_time)\r\n",
    "window_end_idx = len(dask_data) - 1\r\n",
    "\r\n",
    "assert window_start_idx < window_end_idx\r\n",
    "\r\n",
    "D = deque(dask_data[\"Datetime\"].loc[window_start_idx:window_end_idx].compute())\r\n",
    "H = deque(dask_data[\"Humidity\"].loc[window_start_idx:window_end_idx].compute())\r\n",
    "\r\n"
   ],
   "outputs": [
    {
     "output_type": "display_data",
     "data": {
      "application/javascript": "\n            setTimeout(function() {\n                var nbb_cell_id = 6;\n                var nbb_unformatted_code = \"window_end_time = datetime.datetime.now()\\r\\nwindow_end_time = window_end_time.replace(microsecond=0)\\r\\n\\r\\nhistory_window = datetime.timedelta(minutes=20)\\r\\n\\r\\nwindow_start_time = window_end_time - history_window\\r\\n\\r\\nfrom utils import binSearchDatetime\\r\\nwindow_start_idx = binSearchDatetime(dask_data[\\\"Datetime\\\"], window_start_time)\\r\\nwindow_end_idx = len(dask_data) - 1\\r\\n\\r\\nassert window_start_idx < window_end_idx\\r\\n\\r\\nD = deque(dask_data[\\\"Datetime\\\"].loc[window_start_idx:window_end_idx].compute())\\r\\nH = deque(dask_data[\\\"Humidity\\\"].loc[window_start_idx:window_end_idx].compute())\\r\\n\\r\";\n                var nbb_formatted_code = \"window_end_time = datetime.datetime.now()\\nwindow_end_time = window_end_time.replace(microsecond=0)\\n\\nhistory_window = datetime.timedelta(minutes=20)\\n\\nwindow_start_time = window_end_time - history_window\\n\\nfrom utils import binSearchDatetime\\n\\nwindow_start_idx = binSearchDatetime(dask_data[\\\"Datetime\\\"], window_start_time)\\nwindow_end_idx = len(dask_data) - 1\\n\\nassert window_start_idx < window_end_idx\\n\\nD = deque(dask_data[\\\"Datetime\\\"].loc[window_start_idx:window_end_idx].compute())\\nH = deque(dask_data[\\\"Humidity\\\"].loc[window_start_idx:window_end_idx].compute())\";\n                var nbb_cells = Jupyter.notebook.get_cells();\n                for (var i = 0; i < nbb_cells.length; ++i) {\n                    if (nbb_cells[i].input_prompt_number == nbb_cell_id) {\n                        if (nbb_cells[i].get_text() == nbb_unformatted_code) {\n                             nbb_cells[i].set_text(nbb_formatted_code);\n                        }\n                        break;\n                    }\n                }\n            }, 500);\n            ",
      "text/plain": [
       "<IPython.core.display.Javascript object>"
      ]
     },
     "metadata": {}
    }
   ],
   "metadata": {
    "scrolled": false
   }
  },
  {
   "cell_type": "code",
   "execution_count": 23,
   "source": [
    "t = np.array(D)\r\n",
    "x = np.array(H)\r\n",
    "n = 40\r\n",
    "N = len(t)\r\n",
    "\r\n",
    "idx = np.linspace(0, N-1, n, dtype=int)\r\n",
    "T = deque(t[idx])\r\n",
    "\r\n",
    "import scipy.signal\r\n",
    "X = scipy.signal.medfilt(x, 31)[idx]\r\n",
    "\r\n",
    "# print(T)\r\n",
    "print(X)\r\n",
    "\r\n",
    "\r\n",
    "plt.plot(t, x)\r\n",
    "plt.plot(T, X)\r\n",
    "plt.show()\r\n"
   ],
   "outputs": [
    {
     "output_type": "stream",
     "name": "stdout",
     "text": [
      "[71.81 73.49 75.15 75.51 76.3  75.41 75.54 76.89 77.46 80.01 80.08 80.24\n",
      " 79.17 78.75 79.96 79.39 78.93 78.33 78.26 77.56 75.94 76.71 76.21 76.21\n",
      " 76.36 76.99 77.68 76.43 77.01 76.34 75.47 76.8  77.09 75.69 74.25 73.68\n",
      " 72.3  72.62 73.55 71.99]\n"
     ]
    },
    {
     "output_type": "display_data",
     "data": {
      "image/png": "[encoded data removed]",
      "text/plain": [
       "<Figure size 432x288 with 1 Axes>"
      ]
     },
     "metadata": {
      "needs_background": "light"
     }
    },
    {
     "output_type": "display_data",
     "data": {
      "application/javascript": "\n            setTimeout(function() {\n                var nbb_cell_id = 23;\n                var nbb_unformatted_code = \"t = np.array(D)\\r\\nx = np.array(H)\\r\\nn = 40\\r\\nN = len(t)\\r\\n\\r\\nidx = np.linspace(0, N-1, n, dtype=int)\\r\\nT = deque(t[idx])\\r\\n\\r\\nimport scipy.signal\\r\\nX = scipy.signal.medfilt(x, 31)[idx]\\r\\n\\r\\n# print(T)\\r\\nprint(X)\\r\\n\\r\\n\\r\\nplt.plot(t, x)\\r\\nplt.plot(T, X)\\r\\nplt.show()\\r\";\n                var nbb_formatted_code = \"t = np.array(D)\\nx = np.array(H)\\nn = 40\\nN = len(t)\\n\\nidx = np.linspace(0, N - 1, n, dtype=int)\\nT = deque(t[idx])\\n\\nimport scipy.signal\\n\\nX = scipy.signal.medfilt(x, 31)[idx]\\n\\n# print(T)\\nprint(X)\\n\\n\\nplt.plot(t, x)\\nplt.plot(T, X)\\nplt.show()\";\n                var nbb_cells = Jupyter.notebook.get_cells();\n                for (var i = 0; i < nbb_cells.length; ++i) {\n                    if (nbb_cells[i].input_prompt_number == nbb_cell_id) {\n                        if (nbb_cells[i].get_text() == nbb_unformatted_code) {\n                             nbb_cells[i].set_text(nbb_formatted_code);\n                        }\n                        break;\n                    }\n                }\n            }, 500);\n            ",
      "text/plain": [
       "<IPython.core.display.Javascript object>"
      ]
     },
     "metadata": {}
    }
   ],
   "metadata": {
    "scrolled": true
   }
  },
  {
   "cell_type": "code",
   "execution_count": 3,
   "source": [
    "\r\n",
    "class TestClass:\r\n",
    "    a = 3\r\n",
    "    def __init__(self):\r\n",
    "        print(\"asd\")\r\n",
    "\r\n",
    "test = TestClass()\r\n",
    "test1 = TestClass()\r\n",
    "test2 = TestClass()\r\n",
    "\r\n",
    "\r\n"
   ],
   "outputs": [
    {
     "output_type": "stream",
     "name": "stdout",
     "text": [
      "asd\n",
      "asd\n",
      "asd\n"
     ]
    }
   ],
   "metadata": {}
  },
  {
   "cell_type": "code",
   "execution_count": 5,
   "source": [
    "from collections import deque\r\n",
    "\r\n",
    "a = deque([1,2,3,4])\r\n",
    "b = deque([3,4,5,6])\r\n"
   ],
   "outputs": [
    {
     "output_type": "display_data",
     "data": {
      "application/javascript": "\n            setTimeout(function() {\n                var nbb_cell_id = 5;\n                var nbb_unformatted_code = \"from collections import deque\\r\\n\\r\\na = deque([1,2,3,4])\\r\\nb = deque([3,4,5,6])\\r\";\n                var nbb_formatted_code = \"from collections import deque\\n\\na = deque([1, 2, 3, 4])\\nb = deque([3, 4, 5, 6])\";\n                var nbb_cells = Jupyter.notebook.get_cells();\n                for (var i = 0; i < nbb_cells.length; ++i) {\n                    if (nbb_cells[i].input_prompt_number == nbb_cell_id) {\n                        if (nbb_cells[i].get_text() == nbb_unformatted_code) {\n                             nbb_cells[i].set_text(nbb_formatted_code);\n                        }\n                        break;\n                    }\n                }\n            }, 500);\n            ",
      "text/plain": [
       "<IPython.core.display.Javascript object>"
      ]
     },
     "metadata": {}
    }
   ],
   "metadata": {}
  },
  {
   "cell_type": "code",
   "execution_count": 28,
   "source": [
    "a = [1,2,3,4]"
   ],
   "outputs": [
    {
     "output_type": "display_data",
     "data": {
      "application/javascript": "\n            setTimeout(function() {\n                var nbb_cell_id = 28;\n                var nbb_unformatted_code = \"a = [1,2,3,4]\";\n                var nbb_formatted_code = \"a = [1, 2, 3, 4]\";\n                var nbb_cells = Jupyter.notebook.get_cells();\n                for (var i = 0; i < nbb_cells.length; ++i) {\n                    if (nbb_cells[i].input_prompt_number == nbb_cell_id) {\n                        if (nbb_cells[i].get_text() == nbb_unformatted_code) {\n                             nbb_cells[i].set_text(nbb_formatted_code);\n                        }\n                        break;\n                    }\n                }\n            }, 500);\n            ",
      "text/plain": [
       "<IPython.core.display.Javascript object>"
      ]
     },
     "metadata": {}
    }
   ],
   "metadata": {}
  },
  {
   "cell_type": "code",
   "execution_count": 32,
   "source": [
    "a"
   ],
   "outputs": [
    {
     "output_type": "execute_result",
     "data": {
      "text/plain": [
       "[]"
      ]
     },
     "metadata": {},
     "execution_count": 32
    },
    {
     "output_type": "display_data",
     "data": {
      "application/javascript": "\n            setTimeout(function() {\n                var nbb_cell_id = 32;\n                var nbb_unformatted_code = \"a\";\n                var nbb_formatted_code = \"a\";\n                var nbb_cells = Jupyter.notebook.get_cells();\n                for (var i = 0; i < nbb_cells.length; ++i) {\n                    if (nbb_cells[i].input_prompt_number == nbb_cell_id) {\n                        if (nbb_cells[i].get_text() == nbb_unformatted_code) {\n                             nbb_cells[i].set_text(nbb_formatted_code);\n                        }\n                        break;\n                    }\n                }\n            }, 500);\n            ",
      "text/plain": [
       "<IPython.core.display.Javascript object>"
      ]
     },
     "metadata": {}
    }
   ],
   "metadata": {}
  }
 ],
 "metadata": {
  "kernelspec": {
   "name": "python3",
   "display_name": "Python 3.8.5 64-bit ('base': conda)"
  },
  "language_info": {
   "codemirror_mode": {
    "name": "ipython",
    "version": 3
   },
   "file_extension": ".py",
   "mimetype": "text/x-python",
   "name": "python",
   "nbconvert_exporter": "python",
   "pygments_lexer": "ipython3",
   "version": "3.8.5"
  },
  "varInspector": {
   "cols": {
    "lenName": 16,
    "lenType": 16,
    "lenVar": 40
   },
   "kernels_config": {
    "python": {
     "delete_cmd_postfix": "",
     "delete_cmd_prefix": "del ",
     "library": "var_list.py",
     "varRefreshCmd": "print(var_dic_list())"
    },
    "r": {
     "delete_cmd_postfix": ") ",
     "delete_cmd_prefix": "rm(",
     "library": "var_list.r",
     "varRefreshCmd": "cat(var_dic_list()) "
    }
   },
   "types_to_exclude": [
    "module",
    "function",
    "builtin_function_or_method",
    "instance",
    "_Feature"
   ],
   "window_display": false
  },
  "interpreter": {
   "hash": "b3ba2566441a7c06988d0923437866b63cedc61552a5af99d1f4fb67d367b25f"
  }
 },
 "nbformat": 4,
 "nbformat_minor": 4
}