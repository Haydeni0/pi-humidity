{
 "cells": [
  {
   "cell_type": "code",
   "execution_count": 84,
   "metadata": {},
   "outputs": [
    {
     "data": {
      "text/html": [
       "        <script type=\"text/javascript\">\n",
       "        window.PlotlyConfig = {MathJaxConfig: 'local'};\n",
       "        if (window.MathJax) {MathJax.Hub.Config({SVG: {font: \"STIX-Web\"}});}\n",
       "        if (typeof require !== 'undefined') {\n",
       "        require.undef(\"plotly\");\n",
       "        requirejs.config({\n",
       "            paths: {\n",
       "                'plotly': ['https://cdn.plot.ly/plotly-2.3.1.min']\n",
       "            }\n",
       "        });\n",
       "        require(['plotly'], function(Plotly) {\n",
       "            window._Plotly = Plotly;\n",
       "        });\n",
       "        }\n",
       "        </script>\n",
       "        "
      ]
     },
     "metadata": {},
     "output_type": "display_data"
    },
    {
     "data": {
      "text/html": [
       "        <script type=\"text/javascript\">\n",
       "        window.PlotlyConfig = {MathJaxConfig: 'local'};\n",
       "        if (window.MathJax) {MathJax.Hub.Config({SVG: {font: \"STIX-Web\"}});}\n",
       "        if (typeof require !== 'undefined') {\n",
       "        require.undef(\"plotly\");\n",
       "        requirejs.config({\n",
       "            paths: {\n",
       "                'plotly': ['https://cdn.plot.ly/plotly-2.3.1.min']\n",
       "            }\n",
       "        });\n",
       "        require(['plotly'], function(Plotly) {\n",
       "            window._Plotly = Plotly;\n",
       "        });\n",
       "        }\n",
       "        </script>\n",
       "        "
      ]
     },
     "metadata": {},
     "output_type": "display_data"
    },
    {
     "data": {
      "application/javascript": [
       "\n",
       "            setTimeout(function() {\n",
       "                var nbb_cell_id = 84;\n",
       "                var nbb_unformatted_code = \"# Data manipulation\\nimport pandas as pd\\nimport numpy as np\\nfrom collections import deque\\nimport csv\\nimport dask.dataframe\\n\\nimport time\\nimport datetime\\nfrom itertools import count\\n\\n# Options for pandas\\npd.options.display.max_columns = 50\\npd.options.display.max_rows = 30\\n\\n# Visualizations\\nimport plotly\\nimport plotly.graph_objs as go\\nimport plotly.offline as ply\\n\\nplotly.offline.init_notebook_mode(connected=True)\\n\\nimport cufflinks as cf\\n\\ncf.go_offline(connected=True)\\ncf.set_config_file(theme=\\\"white\\\")\\n\\nimport seaborn as sns\\nimport matplotlib.pyplot as plt\\nimport matplotlib.animation as animation\\n\\n# Autoreload extension\\nif \\\"autoreload\\\" not in get_ipython().extension_manager.loaded:\\n    %load_ext autoreload\\n# nb_black extension\\nif \\\"nb_black\\\" not in get_ipython().extension_manager.loaded:\\n    %load_ext nb_black\\n\\n%autoreload 2\";\n",
       "                var nbb_formatted_code = \"# Data manipulation\\nimport pandas as pd\\nimport numpy as np\\nfrom collections import deque\\nimport csv\\nimport dask.dataframe\\n\\nimport time\\nimport datetime\\nfrom itertools import count\\n\\n# Options for pandas\\npd.options.display.max_columns = 50\\npd.options.display.max_rows = 30\\n\\n# Visualizations\\nimport plotly\\nimport plotly.graph_objs as go\\nimport plotly.offline as ply\\n\\nplotly.offline.init_notebook_mode(connected=True)\\n\\nimport cufflinks as cf\\n\\ncf.go_offline(connected=True)\\ncf.set_config_file(theme=\\\"white\\\")\\n\\nimport seaborn as sns\\nimport matplotlib.pyplot as plt\\nimport matplotlib.animation as animation\\n\\n# Autoreload extension\\nif \\\"autoreload\\\" not in get_ipython().extension_manager.loaded:\\n    %load_ext autoreload\\n# nb_black extension\\nif \\\"nb_black\\\" not in get_ipython().extension_manager.loaded:\\n    %load_ext nb_black\\n\\n%autoreload 2\";\n",
       "                var nbb_cells = Jupyter.notebook.get_cells();\n",
       "                for (var i = 0; i < nbb_cells.length; ++i) {\n",
       "                    if (nbb_cells[i].input_prompt_number == nbb_cell_id) {\n",
       "                        if (nbb_cells[i].get_text() == nbb_unformatted_code) {\n",
       "                             nbb_cells[i].set_text(nbb_formatted_code);\n",
       "                        }\n",
       "                        break;\n",
       "                    }\n",
       "                }\n",
       "            }, 500);\n",
       "            "
      ],
      "text/plain": [
       "<IPython.core.display.Javascript object>"
      ]
     },
     "metadata": {},
     "output_type": "display_data"
    }
   ],
   "source": [
    "# Data manipulation\n",
    "import pandas as pd\n",
    "import numpy as np\n",
    "from collections import deque\n",
    "import csv\n",
    "import dask.dataframe\n",
    "\n",
    "import time\n",
    "import datetime\n",
    "from itertools import count\n",
    "\n",
    "# Options for pandas\n",
    "pd.options.display.max_columns = 50\n",
    "pd.options.display.max_rows = 30\n",
    "\n",
    "# Visualizations\n",
    "import plotly\n",
    "import plotly.graph_objs as go\n",
    "import plotly.offline as ply\n",
    "\n",
    "plotly.offline.init_notebook_mode(connected=True)\n",
    "\n",
    "import cufflinks as cf\n",
    "\n",
    "cf.go_offline(connected=True)\n",
    "cf.set_config_file(theme=\"white\")\n",
    "\n",
    "import seaborn as sns\n",
    "import matplotlib.pyplot as plt\n",
    "import matplotlib.animation as animation\n",
    "\n",
    "# Autoreload extension\n",
    "if \"autoreload\" not in get_ipython().extension_manager.loaded:\n",
    "    %load_ext autoreload\n",
    "# nb_black extension\n",
    "if \"nb_black\" not in get_ipython().extension_manager.loaded:\n",
    "    %load_ext nb_black\n",
    "\n",
    "%autoreload 2"
   ]
  },
  {
   "cell_type": "code",
   "execution_count": 100,
   "metadata": {
    "scrolled": true
   },
   "outputs": [
    {
     "data": {
      "application/javascript": [
       "\n",
       "            setTimeout(function() {\n",
       "                var nbb_cell_id = 100;\n",
       "                var nbb_unformatted_code = \"filepath = \\\"../WindowsTest/TestData.csv\\\"\\ndata = pd.read_csv(filepath)\\ndata[\\\"Datetime\\\"] = pd.to_datetime(data[\\\"Datetime\\\"])\";\n",
       "                var nbb_formatted_code = \"filepath = \\\"../WindowsTest/TestData.csv\\\"\\ndata = pd.read_csv(filepath)\\ndata[\\\"Datetime\\\"] = pd.to_datetime(data[\\\"Datetime\\\"])\";\n",
       "                var nbb_cells = Jupyter.notebook.get_cells();\n",
       "                for (var i = 0; i < nbb_cells.length; ++i) {\n",
       "                    if (nbb_cells[i].input_prompt_number == nbb_cell_id) {\n",
       "                        if (nbb_cells[i].get_text() == nbb_unformatted_code) {\n",
       "                             nbb_cells[i].set_text(nbb_formatted_code);\n",
       "                        }\n",
       "                        break;\n",
       "                    }\n",
       "                }\n",
       "            }, 500);\n",
       "            "
      ],
      "text/plain": [
       "<IPython.core.display.Javascript object>"
      ]
     },
     "metadata": {},
     "output_type": "display_data"
    }
   ],
   "source": [
    "filepath = \"../WindowsTest/TestData.csv\"\n",
    "data = pd.read_csv(filepath)\n",
    "data[\"Datetime\"] = pd.to_datetime(data[\"Datetime\"])"
   ]
  },
  {
   "cell_type": "code",
   "execution_count": 118,
   "metadata": {},
   "outputs": [
    {
     "name": "stdout",
     "output_type": "stream",
     "text": [
      "4606.0\n"
     ]
    },
    {
     "data": {
      "application/javascript": [
       "\n",
       "            setTimeout(function() {\n",
       "                var nbb_cell_id = 118;\n",
       "                var nbb_unformatted_code = \"def binSearchDatetime(\\n    Datetime: pd.core.series.Series, target_datetime: datetime.datetime\\n) -> int:\\n    #  Assume that Datetime is already sorted\\n    L_idx = 0\\n    R_idx = len(Datetime) - 1\\n    L = Datetime[L_idx]\\n    R = Datetime[R_idx]\\n\\n    idx_width = R_idx - L_idx\\n\\n    assert L < target_datetime < R\\n\\n    while idx_width > 1:\\n        M_idx = np.ceil(np.mean([L_idx, R_idx]))\\n        M = Datetime[M_idx]\\n\\n        if M > target_datetime:\\n            R_idx = M_idx\\n        elif M < target_datetime:\\n            L_idx = M_idx\\n        elif M == target_datetime:\\n            R_idx = M_idx\\n            L_idx = M_idx\\n        elif Datetime[L_idx] == target_datetime:\\n            R_idx = L_idx\\n\\n        idx_width = R_idx - L_idx\\n\\n    return L_idx\\n\\n\\nprint(binSearchDatetime(data[\\\"Datetime\\\"], old_time))\";\n",
       "                var nbb_formatted_code = \"def binSearchDatetime(\\n    Datetime: pd.core.series.Series, target_datetime: datetime.datetime\\n) -> int:\\n    #  Assume that Datetime is already sorted\\n    L_idx = 0\\n    R_idx = len(Datetime) - 1\\n    L = Datetime[L_idx]\\n    R = Datetime[R_idx]\\n\\n    idx_width = R_idx - L_idx\\n\\n    assert L < target_datetime < R\\n\\n    while idx_width > 1:\\n        M_idx = np.ceil(np.mean([L_idx, R_idx]))\\n        M = Datetime[M_idx]\\n\\n        if M > target_datetime:\\n            R_idx = M_idx\\n        elif M < target_datetime:\\n            L_idx = M_idx\\n        elif M == target_datetime:\\n            R_idx = M_idx\\n            L_idx = M_idx\\n        elif Datetime[L_idx] == target_datetime:\\n            R_idx = L_idx\\n\\n        idx_width = R_idx - L_idx\\n\\n    return L_idx\\n\\n\\nprint(binSearchDatetime(data[\\\"Datetime\\\"], old_time))\";\n",
       "                var nbb_cells = Jupyter.notebook.get_cells();\n",
       "                for (var i = 0; i < nbb_cells.length; ++i) {\n",
       "                    if (nbb_cells[i].input_prompt_number == nbb_cell_id) {\n",
       "                        if (nbb_cells[i].get_text() == nbb_unformatted_code) {\n",
       "                             nbb_cells[i].set_text(nbb_formatted_code);\n",
       "                        }\n",
       "                        break;\n",
       "                    }\n",
       "                }\n",
       "            }, 500);\n",
       "            "
      ],
      "text/plain": [
       "<IPython.core.display.Javascript object>"
      ]
     },
     "metadata": {},
     "output_type": "display_data"
    }
   ],
   "source": [
    "def binSearchDatetime(\n",
    "    Datetime: pd.core.series.Series, target_datetime: datetime.datetime\n",
    ") -> int:\n",
    "    # Searches a sorted list of datetime objects to find the index of greatest value smaller than target_datetime\n",
    "    # Inputs:\n",
    "    # - Datetime (Sorted list of datetime.datetime objects)\n",
    "    # - target_datetime (datetime.datetime)\n",
    "    #\n",
    "    # Outputs:\n",
    "    # - L_idx (int) - Index of the greatest datetime in the list smaller than target_datetime\n",
    "    \n",
    "    #  Assume that Datetime is already sorted\n",
    "    L_idx = 0\n",
    "    R_idx = len(Datetime) - 1\n",
    "    L = Datetime[L_idx]\n",
    "    R = Datetime[R_idx]\n",
    "\n",
    "    idx_width = R_idx - L_idx\n",
    "\n",
    "    assert L < target_datetime < R\n",
    "\n",
    "    while idx_width > 1:\n",
    "        M_idx = np.ceil(np.mean([L_idx, R_idx]))\n",
    "        M = Datetime[M_idx]\n",
    "\n",
    "        if M > target_datetime:\n",
    "            R_idx = M_idx\n",
    "        elif M < target_datetime:\n",
    "            L_idx = M_idx\n",
    "        elif M == target_datetime:\n",
    "            R_idx = M_idx\n",
    "            L_idx = M_idx\n",
    "        elif Datetime[L_idx] == target_datetime:\n",
    "            R_idx = L_idx\n",
    "\n",
    "        idx_width = R_idx - L_idx\n",
    "\n",
    "    return L_idx\n",
    "\n",
    "\n",
    "print(binSearchDatetime(data[\"Datetime\"], old_time))"
   ]
  },
  {
   "cell_type": "code",
   "execution_count": 117,
   "metadata": {},
   "outputs": [
    {
     "name": "stdout",
     "output_type": "stream",
     "text": [
      "2021-09-26 14:00:41\n",
      "2021-09-26 13:40:41\n"
     ]
    },
    {
     "data": {
      "application/javascript": [
       "\n",
       "            setTimeout(function() {\n",
       "                var nbb_cell_id = 117;\n",
       "                var nbb_unformatted_code = \"current_time = datetime.datetime.now()\\ncurrent_time = current_time.replace(microsecond=0)\\n\\nhistory_window = datetime.timedelta(minutes=20)\\n\\nold_time = current_time - history_window\\nprint(current_time)\\nprint(old_time)\";\n",
       "                var nbb_formatted_code = \"current_time = datetime.datetime.now()\\ncurrent_time = current_time.replace(microsecond=0)\\n\\nhistory_window = datetime.timedelta(minutes=20)\\n\\nold_time = current_time - history_window\\nprint(current_time)\\nprint(old_time)\";\n",
       "                var nbb_cells = Jupyter.notebook.get_cells();\n",
       "                for (var i = 0; i < nbb_cells.length; ++i) {\n",
       "                    if (nbb_cells[i].input_prompt_number == nbb_cell_id) {\n",
       "                        if (nbb_cells[i].get_text() == nbb_unformatted_code) {\n",
       "                             nbb_cells[i].set_text(nbb_formatted_code);\n",
       "                        }\n",
       "                        break;\n",
       "                    }\n",
       "                }\n",
       "            }, 500);\n",
       "            "
      ],
      "text/plain": [
       "<IPython.core.display.Javascript object>"
      ]
     },
     "metadata": {},
     "output_type": "display_data"
    }
   ],
   "source": [
    "current_time = datetime.datetime.now()\n",
    "current_time = current_time.replace(microsecond=0)\n",
    "\n",
    "history_window = datetime.timedelta(minutes=20)\n",
    "\n",
    "old_time = current_time - history_window\n",
    "print(current_time)\n",
    "print(old_time)"
   ]
  }
 ],
 "metadata": {
  "kernelspec": {
   "display_name": "Python 3",
   "language": "python",
   "name": "python3"
  },
  "language_info": {
   "codemirror_mode": {
    "name": "ipython",
    "version": 3
   },
   "file_extension": ".py",
   "mimetype": "text/x-python",
   "name": "python",
   "nbconvert_exporter": "python",
   "pygments_lexer": "ipython3",
   "version": "3.8.5"
  },
  "varInspector": {
   "cols": {
    "lenName": 16,
    "lenType": 16,
    "lenVar": 40
   },
   "kernels_config": {
    "python": {
     "delete_cmd_postfix": "",
     "delete_cmd_prefix": "del ",
     "library": "var_list.py",
     "varRefreshCmd": "print(var_dic_list())"
    },
    "r": {
     "delete_cmd_postfix": ") ",
     "delete_cmd_prefix": "rm(",
     "library": "var_list.r",
     "varRefreshCmd": "cat(var_dic_list()) "
    }
   },
   "types_to_exclude": [
    "module",
    "function",
    "builtin_function_or_method",
    "instance",
    "_Feature"
   ],
   "window_display": false
  }
 },
 "nbformat": 4,
 "nbformat_minor": 4
}
