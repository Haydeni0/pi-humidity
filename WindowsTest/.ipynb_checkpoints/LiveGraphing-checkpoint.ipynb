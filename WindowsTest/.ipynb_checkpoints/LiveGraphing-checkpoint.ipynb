{
 "cells": [
  {
   "cell_type": "code",
   "execution_count": 195,
   "metadata": {},
   "outputs": [
    {
     "data": {
      "text/html": [
       "        <script type=\"text/javascript\">\n",
       "        window.PlotlyConfig = {MathJaxConfig: 'local'};\n",
       "        if (window.MathJax) {MathJax.Hub.Config({SVG: {font: \"STIX-Web\"}});}\n",
       "        if (typeof require !== 'undefined') {\n",
       "        require.undef(\"plotly\");\n",
       "        requirejs.config({\n",
       "            paths: {\n",
       "                'plotly': ['https://cdn.plot.ly/plotly-2.3.1.min']\n",
       "            }\n",
       "        });\n",
       "        require(['plotly'], function(Plotly) {\n",
       "            window._Plotly = Plotly;\n",
       "        });\n",
       "        }\n",
       "        </script>\n",
       "        "
      ]
     },
     "metadata": {},
     "output_type": "display_data"
    },
    {
     "data": {
      "text/html": [
       "        <script type=\"text/javascript\">\n",
       "        window.PlotlyConfig = {MathJaxConfig: 'local'};\n",
       "        if (window.MathJax) {MathJax.Hub.Config({SVG: {font: \"STIX-Web\"}});}\n",
       "        if (typeof require !== 'undefined') {\n",
       "        require.undef(\"plotly\");\n",
       "        requirejs.config({\n",
       "            paths: {\n",
       "                'plotly': ['https://cdn.plot.ly/plotly-2.3.1.min']\n",
       "            }\n",
       "        });\n",
       "        require(['plotly'], function(Plotly) {\n",
       "            window._Plotly = Plotly;\n",
       "        });\n",
       "        }\n",
       "        </script>\n",
       "        "
      ]
     },
     "metadata": {},
     "output_type": "display_data"
    },
    {
     "data": {
      "application/javascript": [
       "\n",
       "            setTimeout(function() {\n",
       "                var nbb_cell_id = 195;\n",
       "                var nbb_unformatted_code = \"# Data manipulation\\nimport pandas as pd\\nimport numpy as np\\nfrom collections import deque\\nimport csv\\nimport dask.dataframe\\n\\nimport os\\nimport time\\nimport datetime\\nfrom itertools import count\\n\\n# Options for pandas\\npd.options.display.max_columns = 50\\npd.options.display.max_rows = 30\\n\\n# Visualizations\\nimport plotly\\nimport plotly.graph_objs as go\\nimport plotly.offline as ply\\n\\nplotly.offline.init_notebook_mode(connected=True)\\n\\nimport cufflinks as cf\\n\\ncf.go_offline(connected=True)\\ncf.set_config_file(theme=\\\"white\\\")\\n\\nimport seaborn as sns\\nimport matplotlib.pyplot as plt\\nimport matplotlib.animation as animation\\n\\n# Autoreload extension\\nif \\\"autoreload\\\" not in get_ipython().extension_manager.loaded:\\n    %load_ext autoreload\\n# nb_black extension\\nif \\\"nb_black\\\" not in get_ipython().extension_manager.loaded:\\n    %load_ext nb_black\\n\\n%autoreload 2\";\n",
       "                var nbb_formatted_code = \"# Data manipulation\\nimport pandas as pd\\nimport numpy as np\\nfrom collections import deque\\nimport csv\\nimport dask.dataframe\\n\\nimport os\\nimport time\\nimport datetime\\nfrom itertools import count\\n\\n# Options for pandas\\npd.options.display.max_columns = 50\\npd.options.display.max_rows = 30\\n\\n# Visualizations\\nimport plotly\\nimport plotly.graph_objs as go\\nimport plotly.offline as ply\\n\\nplotly.offline.init_notebook_mode(connected=True)\\n\\nimport cufflinks as cf\\n\\ncf.go_offline(connected=True)\\ncf.set_config_file(theme=\\\"white\\\")\\n\\nimport seaborn as sns\\nimport matplotlib.pyplot as plt\\nimport matplotlib.animation as animation\\n\\n# Autoreload extension\\nif \\\"autoreload\\\" not in get_ipython().extension_manager.loaded:\\n    %load_ext autoreload\\n# nb_black extension\\nif \\\"nb_black\\\" not in get_ipython().extension_manager.loaded:\\n    %load_ext nb_black\\n\\n%autoreload 2\";\n",
       "                var nbb_cells = Jupyter.notebook.get_cells();\n",
       "                for (var i = 0; i < nbb_cells.length; ++i) {\n",
       "                    if (nbb_cells[i].input_prompt_number == nbb_cell_id) {\n",
       "                        if (nbb_cells[i].get_text() == nbb_unformatted_code) {\n",
       "                             nbb_cells[i].set_text(nbb_formatted_code);\n",
       "                        }\n",
       "                        break;\n",
       "                    }\n",
       "                }\n",
       "            }, 500);\n",
       "            "
      ],
      "text/plain": [
       "<IPython.core.display.Javascript object>"
      ]
     },
     "metadata": {},
     "output_type": "display_data"
    }
   ],
   "source": [
    "# Data manipulation\n",
    "import pandas as pd\n",
    "import numpy as np\n",
    "from collections import deque\n",
    "import csv\n",
    "import dask.dataframe\n",
    "\n",
    "import os\n",
    "import time\n",
    "import datetime\n",
    "from itertools import count\n",
    "\n",
    "# Options for pandas\n",
    "pd.options.display.max_columns = 50\n",
    "pd.options.display.max_rows = 30\n",
    "\n",
    "# Visualizations\n",
    "import plotly\n",
    "import plotly.graph_objs as go\n",
    "import plotly.offline as ply\n",
    "\n",
    "plotly.offline.init_notebook_mode(connected=True)\n",
    "\n",
    "import cufflinks as cf\n",
    "\n",
    "cf.go_offline(connected=True)\n",
    "cf.set_config_file(theme=\"white\")\n",
    "\n",
    "import seaborn as sns\n",
    "import matplotlib.pyplot as plt\n",
    "import matplotlib.animation as animation\n",
    "\n",
    "# Autoreload extension\n",
    "if \"autoreload\" not in get_ipython().extension_manager.loaded:\n",
    "    %load_ext autoreload\n",
    "# nb_black extension\n",
    "if \"nb_black\" not in get_ipython().extension_manager.loaded:\n",
    "    %load_ext nb_black\n",
    "\n",
    "%autoreload 2"
   ]
  },
  {
   "cell_type": "code",
   "execution_count": 124,
   "metadata": {
    "scrolled": true
   },
   "outputs": [
    {
     "data": {
      "application/javascript": [
       "\n",
       "            setTimeout(function() {\n",
       "                var nbb_cell_id = 124;\n",
       "                var nbb_unformatted_code = \"filepath = \\\"../WindowsTest/TestData.csv\\\"\\ndata = pd.read_csv(filepath)\\ndata[\\\"Datetime\\\"] = pd.to_datetime(data[\\\"Datetime\\\"])\\n\\ndask_data = dask.dataframe.read_csv(filepath)\\ndask_data[\\\"Datetime\\\"] = dask.dataframe.to_datetime(dask_data[\\\"Datetime\\\"])\";\n",
       "                var nbb_formatted_code = \"filepath = \\\"../WindowsTest/TestData.csv\\\"\\ndata = pd.read_csv(filepath)\\ndata[\\\"Datetime\\\"] = pd.to_datetime(data[\\\"Datetime\\\"])\\n\\ndask_data = dask.dataframe.read_csv(filepath)\\ndask_data[\\\"Datetime\\\"] = dask.dataframe.to_datetime(dask_data[\\\"Datetime\\\"])\";\n",
       "                var nbb_cells = Jupyter.notebook.get_cells();\n",
       "                for (var i = 0; i < nbb_cells.length; ++i) {\n",
       "                    if (nbb_cells[i].input_prompt_number == nbb_cell_id) {\n",
       "                        if (nbb_cells[i].get_text() == nbb_unformatted_code) {\n",
       "                             nbb_cells[i].set_text(nbb_formatted_code);\n",
       "                        }\n",
       "                        break;\n",
       "                    }\n",
       "                }\n",
       "            }, 500);\n",
       "            "
      ],
      "text/plain": [
       "<IPython.core.display.Javascript object>"
      ]
     },
     "metadata": {},
     "output_type": "display_data"
    }
   ],
   "source": [
    "filepath = \"../WindowsTest/TestData.csv\"\n",
    "data = pd.read_csv(filepath)\n",
    "data[\"Datetime\"] = pd.to_datetime(data[\"Datetime\"])\n",
    "\n",
    "dask_data = dask.dataframe.read_csv(filepath)\n",
    "dask_data[\"Datetime\"] = dask.dataframe.to_datetime(dask_data[\"Datetime\"])"
   ]
  },
  {
   "cell_type": "code",
   "execution_count": 151,
   "metadata": {},
   "outputs": [
    {
     "name": "stdout",
     "output_type": "stream",
     "text": [
      "5256.0\n"
     ]
    },
    {
     "data": {
      "application/javascript": [
       "\n",
       "            setTimeout(function() {\n",
       "                var nbb_cell_id = 151;\n",
       "                var nbb_unformatted_code = \"def binSearchDatetime(\\n    Datetime: dask.dataframe.core.Series, target_datetime: datetime.datetime\\n) -> int:\\n    # Searches the dask list for the index of the greatest time smaller than target_datetime\\n    # Inputs:\\n    # - Datetime (Sorted list of datetime.datetime objects, in dask series format)\\n    # - target_datetime (datetime.datetime)\\n    #\\n    # Outputs:\\n    # - L_idx (int) - Index of the greatest datetime in the list smaller than target_datetime\\n\\n    #  Assume that Datetime is already sorted\\n    L_idx = 0\\n    R_idx = len(Datetime) - 1\\n    L = Datetime.loc[L_idx].compute().item()\\n    R = Datetime.loc[R_idx].compute().item()\\n\\n    idx_width = R_idx - L_idx\\n\\n    assert L < target_datetime < R\\n\\n    while idx_width > 1:\\n        M_idx = np.ceil(np.mean([L_idx, R_idx]))\\n        M = Datetime.loc[M_idx].compute().item()\\n\\n        if M > target_datetime:\\n            R_idx = M_idx\\n        elif M < target_datetime:\\n            L_idx = M_idx\\n        elif M == target_datetime:\\n            R_idx = M_idx\\n            L_idx = M_idx\\n        elif Datetime.loc[L_idx].compute().item() == target_datetime:\\n            R_idx = L_idx\\n\\n        idx_width = R_idx - L_idx\\n\\n    return L_idx\\n\\n\\nprint(binSearchDatetime(dask_data[\\\"Datetime\\\"], old_time))\";\n",
       "                var nbb_formatted_code = \"def binSearchDatetime(\\n    Datetime: dask.dataframe.core.Series, target_datetime: datetime.datetime\\n) -> int:\\n    # Searches the dask list for the index of the greatest time smaller than target_datetime\\n    # Inputs:\\n    # - Datetime (Sorted list of datetime.datetime objects, in dask series format)\\n    # - target_datetime (datetime.datetime)\\n    #\\n    # Outputs:\\n    # - L_idx (int) - Index of the greatest datetime in the list smaller than target_datetime\\n\\n    #  Assume that Datetime is already sorted\\n    L_idx = 0\\n    R_idx = len(Datetime) - 1\\n    L = Datetime.loc[L_idx].compute().item()\\n    R = Datetime.loc[R_idx].compute().item()\\n\\n    idx_width = R_idx - L_idx\\n\\n    assert L < target_datetime < R\\n\\n    while idx_width > 1:\\n        M_idx = np.ceil(np.mean([L_idx, R_idx]))\\n        M = Datetime.loc[M_idx].compute().item()\\n\\n        if M > target_datetime:\\n            R_idx = M_idx\\n        elif M < target_datetime:\\n            L_idx = M_idx\\n        elif M == target_datetime:\\n            R_idx = M_idx\\n            L_idx = M_idx\\n        elif Datetime.loc[L_idx].compute().item() == target_datetime:\\n            R_idx = L_idx\\n\\n        idx_width = R_idx - L_idx\\n\\n    return L_idx\\n\\n\\nprint(binSearchDatetime(dask_data[\\\"Datetime\\\"], old_time))\";\n",
       "                var nbb_cells = Jupyter.notebook.get_cells();\n",
       "                for (var i = 0; i < nbb_cells.length; ++i) {\n",
       "                    if (nbb_cells[i].input_prompt_number == nbb_cell_id) {\n",
       "                        if (nbb_cells[i].get_text() == nbb_unformatted_code) {\n",
       "                             nbb_cells[i].set_text(nbb_formatted_code);\n",
       "                        }\n",
       "                        break;\n",
       "                    }\n",
       "                }\n",
       "            }, 500);\n",
       "            "
      ],
      "text/plain": [
       "<IPython.core.display.Javascript object>"
      ]
     },
     "metadata": {},
     "output_type": "display_data"
    }
   ],
   "source": [
    "def binSearchDatetime(\n",
    "    Datetime: dask.dataframe.core.Series, target_datetime: datetime.datetime\n",
    ") -> int:\n",
    "    # Searches the dask list for the index of the greatest time smaller than target_datetime\n",
    "    # Inputs:\n",
    "    # - Datetime (Sorted list of datetime.datetime objects, in dask series format)\n",
    "    # - target_datetime (datetime.datetime)\n",
    "    #\n",
    "    # Outputs:\n",
    "    # - L_idx (int) - Index of the greatest datetime in the list smaller than target_datetime\n",
    "\n",
    "    #  Assume that Datetime is already sorted\n",
    "    L_idx = 0\n",
    "    R_idx = len(Datetime) - 1\n",
    "    L = Datetime.loc[L_idx].compute().item()\n",
    "    R = Datetime.loc[R_idx].compute().item()\n",
    "\n",
    "    idx_width = R_idx - L_idx\n",
    "\n",
    "    assert L < target_datetime < R\n",
    "\n",
    "    while idx_width > 1:\n",
    "        M_idx = np.ceil(np.mean([L_idx, R_idx]))\n",
    "        M = Datetime.loc[M_idx].compute().item()\n",
    "\n",
    "        if M > target_datetime:\n",
    "            R_idx = M_idx\n",
    "        elif M < target_datetime:\n",
    "            L_idx = M_idx\n",
    "        elif M == target_datetime:\n",
    "            R_idx = M_idx\n",
    "            L_idx = M_idx\n",
    "        elif Datetime.loc[L_idx].compute().item() == target_datetime:\n",
    "            R_idx = L_idx\n",
    "\n",
    "        idx_width = R_idx - L_idx\n",
    "\n",
    "    return L_idx\n",
    "\n"
   ]
  },
  {
   "cell_type": "code",
   "execution_count": null,
   "metadata": {
    "scrolled": false
   },
   "outputs": [],
   "source": [
    "window_end_time = datetime.datetime.now()\n",
    "window_end_time = window_end_time.replace(microsecond=0)\n",
    "\n",
    "history_window = datetime.timedelta(minutes=20)\n",
    "\n",
    "window_start_time = window_end_time - history_window\n",
    "\n",
    "window_start_idx = binSearchDatetime(dask_data[\"Datetime\"], window_start_time)\n",
    "window_end_idx = len(dask_data) - 1\n",
    "\n",
    "assert window_start_idx < window_end_idx\n",
    "\n",
    "D = dask_data[\"Datetime\"].loc[window_start_idx:window_end_idx].compute()\n",
    "H = dask_data[\"Humidity\"].loc[window_start_idx:window_end_idx].compute()\n",
    "\n"
   ]
  },
  {
   "cell_type": "code",
   "execution_count": 227,
   "metadata": {},
   "outputs": [
    {
     "name": "stdout",
     "output_type": "stream",
     "text": [
      "['20211-09-26 16:22:05', '-5.75', '-7.75']\n"
     ]
    },
    {
     "data": {
      "application/javascript": [
       "\n",
       "            setTimeout(function() {\n",
       "                var nbb_cell_id = 227;\n",
       "                var nbb_unformatted_code = \"with open(filepath, \\\"r\\\") as textfile:\\n    p = csv.reader(reversed_lines(textfile))\\n    print(next(p))\";\n",
       "                var nbb_formatted_code = \"with open(filepath, \\\"r\\\") as textfile:\\n    p = csv.reader(reversed_lines(textfile))\\n    print(next(p))\";\n",
       "                var nbb_cells = Jupyter.notebook.get_cells();\n",
       "                for (var i = 0; i < nbb_cells.length; ++i) {\n",
       "                    if (nbb_cells[i].input_prompt_number == nbb_cell_id) {\n",
       "                        if (nbb_cells[i].get_text() == nbb_unformatted_code) {\n",
       "                             nbb_cells[i].set_text(nbb_formatted_code);\n",
       "                        }\n",
       "                        break;\n",
       "                    }\n",
       "                }\n",
       "            }, 500);\n",
       "            "
      ],
      "text/plain": [
       "<IPython.core.display.Javascript object>"
      ]
     },
     "metadata": {},
     "output_type": "display_data"
    }
   ],
   "source": [
    "with open(filepath, \"r\") as textfile:\n",
    "    p = csv.reader(reversed_lines(textfile))\n",
    "    print(next(p))"
   ]
  },
  {
   "cell_type": "code",
   "execution_count": 223,
   "metadata": {},
   "outputs": [
    {
     "data": {
      "application/javascript": [
       "\n",
       "            setTimeout(function() {\n",
       "                var nbb_cell_id = 223;\n",
       "                var nbb_unformatted_code = \"def reversed_lines(f):\\n    \\\"Generate the lines of file in reverse order.\\\"\\n    part = \\\"\\\"\\n    for block in reversed_blocks(f):\\n        for c in reversed(block):\\n            if c == \\\"\\\\n\\\" and part:\\n                yield part[::-1]\\n                part = \\\"\\\"\\n            part += c\\n    if part:\\n        yield part[::-1]\\n\\n\\ndef reversed_blocks(f, blocksize=10):\\n    \\\"Generate blocks of file's contents in reverse order.\\\"\\n    f.seek(0, os.SEEK_END)\\n    here = f.tell()\\n    while 0 < here:\\n        delta = min(blocksize, here)\\n        here -= delta\\n        f.seek(here, os.SEEK_SET)\\n        yield f.read(delta)\";\n",
       "                var nbb_formatted_code = \"def reversed_lines(f):\\n    \\\"Generate the lines of file in reverse order.\\\"\\n    part = \\\"\\\"\\n    for block in reversed_blocks(f):\\n        for c in reversed(block):\\n            if c == \\\"\\\\n\\\" and part:\\n                yield part[::-1]\\n                part = \\\"\\\"\\n            part += c\\n    if part:\\n        yield part[::-1]\\n\\n\\ndef reversed_blocks(f, blocksize=10):\\n    \\\"Generate blocks of file's contents in reverse order.\\\"\\n    f.seek(0, os.SEEK_END)\\n    here = f.tell()\\n    while 0 < here:\\n        delta = min(blocksize, here)\\n        here -= delta\\n        f.seek(here, os.SEEK_SET)\\n        yield f.read(delta)\";\n",
       "                var nbb_cells = Jupyter.notebook.get_cells();\n",
       "                for (var i = 0; i < nbb_cells.length; ++i) {\n",
       "                    if (nbb_cells[i].input_prompt_number == nbb_cell_id) {\n",
       "                        if (nbb_cells[i].get_text() == nbb_unformatted_code) {\n",
       "                             nbb_cells[i].set_text(nbb_formatted_code);\n",
       "                        }\n",
       "                        break;\n",
       "                    }\n",
       "                }\n",
       "            }, 500);\n",
       "            "
      ],
      "text/plain": [
       "<IPython.core.display.Javascript object>"
      ]
     },
     "metadata": {},
     "output_type": "display_data"
    }
   ],
   "source": [
    "def reversed_lines(f):\n",
    "    \"Generate the lines of file in reverse order.\"\n",
    "    part = \"\"\n",
    "    for block in reversed_blocks(f):\n",
    "        for c in reversed(block):\n",
    "            if c == \"\\n\" and part:\n",
    "                yield part[::-1]\n",
    "                part = \"\"\n",
    "            part += c\n",
    "    if part:\n",
    "        yield part[::-1]\n",
    "\n",
    "\n",
    "def reversed_blocks(f, blocksize=100):\n",
    "    \"Generate blocks of file's contents in reverse order.\"\n",
    "    f.seek(0, os.SEEK_END)\n",
    "    here = f.tell()\n",
    "    while 0 < here:\n",
    "        delta = min(blocksize, here)\n",
    "        here -= delta\n",
    "        f.seek(here, os.SEEK_SET)\n",
    "        yield f.read(delta)"
   ]
  }
 ],
 "metadata": {
  "kernelspec": {
   "display_name": "Python 3",
   "language": "python",
   "name": "python3"
  },
  "language_info": {
   "codemirror_mode": {
    "name": "ipython",
    "version": 3
   },
   "file_extension": ".py",
   "mimetype": "text/x-python",
   "name": "python",
   "nbconvert_exporter": "python",
   "pygments_lexer": "ipython3",
   "version": "3.8.5"
  },
  "varInspector": {
   "cols": {
    "lenName": 16,
    "lenType": 16,
    "lenVar": 40
   },
   "kernels_config": {
    "python": {
     "delete_cmd_postfix": "",
     "delete_cmd_prefix": "del ",
     "library": "var_list.py",
     "varRefreshCmd": "print(var_dic_list())"
    },
    "r": {
     "delete_cmd_postfix": ") ",
     "delete_cmd_prefix": "rm(",
     "library": "var_list.r",
     "varRefreshCmd": "cat(var_dic_list()) "
    }
   },
   "types_to_exclude": [
    "module",
    "function",
    "builtin_function_or_method",
    "instance",
    "_Feature"
   ],
   "window_display": false
  }
 },
 "nbformat": 4,
 "nbformat_minor": 4
}
