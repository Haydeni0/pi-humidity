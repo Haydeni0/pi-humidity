{
 "cells": [
  {
   "cell_type": "code",
   "execution_count": 52,
   "metadata": {},
   "outputs": [
    {
     "data": {
      "text/html": [
       "        <script type=\"text/javascript\">\n",
       "        window.PlotlyConfig = {MathJaxConfig: 'local'};\n",
       "        if (window.MathJax) {MathJax.Hub.Config({SVG: {font: \"STIX-Web\"}});}\n",
       "        if (typeof require !== 'undefined') {\n",
       "        require.undef(\"plotly\");\n",
       "        requirejs.config({\n",
       "            paths: {\n",
       "                'plotly': ['https://cdn.plot.ly/plotly-2.3.1.min']\n",
       "            }\n",
       "        });\n",
       "        require(['plotly'], function(Plotly) {\n",
       "            window._Plotly = Plotly;\n",
       "        });\n",
       "        }\n",
       "        </script>\n",
       "        "
      ]
     },
     "metadata": {},
     "output_type": "display_data"
    },
    {
     "data": {
      "text/html": [
       "        <script type=\"text/javascript\">\n",
       "        window.PlotlyConfig = {MathJaxConfig: 'local'};\n",
       "        if (window.MathJax) {MathJax.Hub.Config({SVG: {font: \"STIX-Web\"}});}\n",
       "        if (typeof require !== 'undefined') {\n",
       "        require.undef(\"plotly\");\n",
       "        requirejs.config({\n",
       "            paths: {\n",
       "                'plotly': ['https://cdn.plot.ly/plotly-2.3.1.min']\n",
       "            }\n",
       "        });\n",
       "        require(['plotly'], function(Plotly) {\n",
       "            window._Plotly = Plotly;\n",
       "        });\n",
       "        }\n",
       "        </script>\n",
       "        "
      ]
     },
     "metadata": {},
     "output_type": "display_data"
    },
    {
     "data": {
      "application/javascript": [
       "\n",
       "            setTimeout(function() {\n",
       "                var nbb_cell_id = 52;\n",
       "                var nbb_unformatted_code = \"# Data manipulation\\nimport pandas as pd\\nimport numpy as np\\n\\nimport time\\nimport datetime\\nfrom itertools import count\\n\\n# Options for pandas\\npd.options.display.max_columns = 50\\npd.options.display.max_rows = 30\\n\\n# Visualizations\\nimport plotly\\nimport plotly.graph_objs as go\\nimport plotly.offline as ply\\n\\nplotly.offline.init_notebook_mode(connected=True)\\n\\nimport cufflinks as cf\\n\\ncf.go_offline(connected=True)\\ncf.set_config_file(theme=\\\"white\\\")\\n\\nimport seaborn as sns\\nimport matplotlib.pyplot as plt\\nimport matplotlib.animation as animation\\n\\n# Autoreload extension\\nif \\\"autoreload\\\" not in get_ipython().extension_manager.loaded:\\n    %load_ext autoreload\\n# nb_black extension\\nif \\\"nb_black\\\" not in get_ipython().extension_manager.loaded:\\n    %load_ext nb_black\\n\\n%autoreload 2\";\n",
       "                var nbb_formatted_code = \"# Data manipulation\\nimport pandas as pd\\nimport numpy as np\\n\\nimport time\\nimport datetime\\nfrom itertools import count\\n\\n# Options for pandas\\npd.options.display.max_columns = 50\\npd.options.display.max_rows = 30\\n\\n# Visualizations\\nimport plotly\\nimport plotly.graph_objs as go\\nimport plotly.offline as ply\\n\\nplotly.offline.init_notebook_mode(connected=True)\\n\\nimport cufflinks as cf\\n\\ncf.go_offline(connected=True)\\ncf.set_config_file(theme=\\\"white\\\")\\n\\nimport seaborn as sns\\nimport matplotlib.pyplot as plt\\nimport matplotlib.animation as animation\\n\\n# Autoreload extension\\nif \\\"autoreload\\\" not in get_ipython().extension_manager.loaded:\\n    %load_ext autoreload\\n# nb_black extension\\nif \\\"nb_black\\\" not in get_ipython().extension_manager.loaded:\\n    %load_ext nb_black\\n\\n%autoreload 2\";\n",
       "                var nbb_cells = Jupyter.notebook.get_cells();\n",
       "                for (var i = 0; i < nbb_cells.length; ++i) {\n",
       "                    if (nbb_cells[i].input_prompt_number == nbb_cell_id) {\n",
       "                        if (nbb_cells[i].get_text() == nbb_unformatted_code) {\n",
       "                             nbb_cells[i].set_text(nbb_formatted_code);\n",
       "                        }\n",
       "                        break;\n",
       "                    }\n",
       "                }\n",
       "            }, 500);\n",
       "            "
      ],
      "text/plain": [
       "<IPython.core.display.Javascript object>"
      ]
     },
     "metadata": {},
     "output_type": "display_data"
    }
   ],
   "source": [
    "# Data manipulation\n",
    "import pandas as pd\n",
    "import numpy as np\n",
    "\n",
    "import time\n",
    "import datetime\n",
    "from itertools import count\n",
    "\n",
    "# Options for pandas\n",
    "pd.options.display.max_columns = 50\n",
    "pd.options.display.max_rows = 30\n",
    "\n",
    "# Visualizations\n",
    "import plotly\n",
    "import plotly.graph_objs as go\n",
    "import plotly.offline as ply\n",
    "\n",
    "plotly.offline.init_notebook_mode(connected=True)\n",
    "\n",
    "import cufflinks as cf\n",
    "\n",
    "cf.go_offline(connected=True)\n",
    "cf.set_config_file(theme=\"white\")\n",
    "\n",
    "import seaborn as sns\n",
    "import matplotlib.pyplot as plt\n",
    "import matplotlib.animation as animation\n",
    "\n",
    "# Autoreload extension\n",
    "if \"autoreload\" not in get_ipython().extension_manager.loaded:\n",
    "    %load_ext autoreload\n",
    "# nb_black extension\n",
    "if \"nb_black\" not in get_ipython().extension_manager.loaded:\n",
    "    %load_ext nb_black\n",
    "\n",
    "%autoreload 2"
   ]
  },
  {
   "cell_type": "code",
   "execution_count": 82,
   "metadata": {},
   "outputs": [
    {
     "data": {
      "application/javascript": [
       "\n",
       "            setTimeout(function() {\n",
       "                var nbb_cell_id = 82;\n",
       "                var nbb_unformatted_code = \"data = pd.read_csv(\\\"DHT22_data.csv\\\")\\ndata[\\\"Datetime\\\"] = pd.to_datetime(data[\\\"Datetime\\\"])\";\n",
       "                var nbb_formatted_code = \"data = pd.read_csv(\\\"DHT22_data.csv\\\")\\ndata[\\\"Datetime\\\"] = pd.to_datetime(data[\\\"Datetime\\\"])\";\n",
       "                var nbb_cells = Jupyter.notebook.get_cells();\n",
       "                for (var i = 0; i < nbb_cells.length; ++i) {\n",
       "                    if (nbb_cells[i].input_prompt_number == nbb_cell_id) {\n",
       "                        if (nbb_cells[i].get_text() == nbb_unformatted_code) {\n",
       "                             nbb_cells[i].set_text(nbb_formatted_code);\n",
       "                        }\n",
       "                        break;\n",
       "                    }\n",
       "                }\n",
       "            }, 500);\n",
       "            "
      ],
      "text/plain": [
       "<IPython.core.display.Javascript object>"
      ]
     },
     "metadata": {},
     "output_type": "display_data"
    }
   ],
   "source": [
    "data = pd.read_csv(\"DHT22_data.csv\")\n",
    "data[\"Datetime\"] = pd.to_datetime(data[\"Datetime\"])"
   ]
  },
  {
   "cell_type": "code",
   "execution_count": 47,
   "metadata": {},
   "outputs": [
    {
     "data": {
      "application/javascript": [
       "\n",
       "            setTimeout(function() {\n",
       "                var nbb_cell_id = 47;\n",
       "                var nbb_unformatted_code = \"def animate(counter: count) -> None:\\n    print(next(counter))\";\n",
       "                var nbb_formatted_code = \"def animate(counter: count) -> None:\\n    print(next(counter))\";\n",
       "                var nbb_cells = Jupyter.notebook.get_cells();\n",
       "                for (var i = 0; i < nbb_cells.length; ++i) {\n",
       "                    if (nbb_cells[i].input_prompt_number == nbb_cell_id) {\n",
       "                        if (nbb_cells[i].get_text() == nbb_unformatted_code) {\n",
       "                             nbb_cells[i].set_text(nbb_formatted_code);\n",
       "                        }\n",
       "                        break;\n",
       "                    }\n",
       "                }\n",
       "            }, 500);\n",
       "            "
      ],
      "text/plain": [
       "<IPython.core.display.Javascript object>"
      ]
     },
     "metadata": {},
     "output_type": "display_data"
    }
   ],
   "source": [
    "def animate(data:pandas.core.frame.DataFrame, ) -> None:\n",
    "    current_time = datetime.datetime.now()\n",
    "    new_temp = np.random.normal(24, 1)\n",
    "    new_humidity = np.random.normal(66, 1)\n",
    "    data.loc[len(data)] = [current_time, new_temp, new_humidity]\n",
    "    time.sleep(0.25)\n",
    "    \n",
    "    "
   ]
  },
  {
   "cell_type": "code",
   "execution_count": 88,
   "metadata": {},
   "outputs": [
    {
     "data": {
      "image/png": "[encoded data removed]",
      "text/plain": [
       "<Figure size 432x288 with 1 Axes>"
      ]
     },
     "metadata": {
      "needs_background": "light"
     },
     "output_type": "display_data"
    },
    {
     "data": {
      "application/javascript": [
       "\n",
       "            setTimeout(function() {\n",
       "                var nbb_cell_id = 88;\n",
       "                var nbb_unformatted_code = \"fig = plt.figure()\\nax = fig.add_subplot(1, 1, 1)\\n\\nsns.lineplot(data=data, x=\\\"Datetime\\\", y=\\\"Humidity\\\")\\n# plt.plot(data[\\\"Datetime\\\"], data[\\\"Humidity\\\"])\\nplt.show()\\n# animation.FuncAnimation(fig, animate, fargs=(data), interval = 1)\";\n",
       "                var nbb_formatted_code = \"fig = plt.figure()\\nax = fig.add_subplot(1, 1, 1)\\n\\nsns.lineplot(data=data, x=\\\"Datetime\\\", y=\\\"Humidity\\\")\\n# plt.plot(data[\\\"Datetime\\\"], data[\\\"Humidity\\\"])\\nplt.show()\\n# animation.FuncAnimation(fig, animate, fargs=(data), interval = 1)\";\n",
       "                var nbb_cells = Jupyter.notebook.get_cells();\n",
       "                for (var i = 0; i < nbb_cells.length; ++i) {\n",
       "                    if (nbb_cells[i].input_prompt_number == nbb_cell_id) {\n",
       "                        if (nbb_cells[i].get_text() == nbb_unformatted_code) {\n",
       "                             nbb_cells[i].set_text(nbb_formatted_code);\n",
       "                        }\n",
       "                        break;\n",
       "                    }\n",
       "                }\n",
       "            }, 500);\n",
       "            "
      ],
      "text/plain": [
       "<IPython.core.display.Javascript object>"
      ]
     },
     "metadata": {},
     "output_type": "display_data"
    }
   ],
   "source": [
    "fig = plt.figure()\n",
    "ax = fig.add_subplot(1, 1, 1)\n",
    "\n",
    "sns.lineplot(data=data, x=\"Datetime\", y=\"Humidity\")\n",
    "# plt.plot(data[\"Datetime\"], data[\"Humidity\"])\n",
    "plt.show()\n",
    "# animation.FuncAnimation(fig, animate, fargs=(data), interval = 1)"
   ]
  },
  {
   "cell_type": "code",
   "execution_count": 80,
   "metadata": {},
   "outputs": [
    {
     "data": {
      "text/plain": [
       "0     2021-09-25 11:53:22.869404\n",
       "1     2021-09-25 11:53:25.398605\n",
       "2     2021-09-25 11:53:59.271209\n",
       "3     2021-09-25 11:54:04.333533\n",
       "4     2021-09-25 11:54:06.864766\n",
       "5     2021-09-25 11:54:09.394249\n",
       "6     2021-09-25 11:54:11.923902\n",
       "7     2021-09-25 11:54:14.454744\n",
       "8     2021-09-25 11:54:16.985370\n",
       "9     2021-09-25 11:54:19.514184\n",
       "10    2021-09-25 11:54:22.044910\n",
       "11    2021-09-25 11:54:24.575479\n",
       "12    2021-09-25 11:54:27.104917\n",
       "13    2021-09-25 11:54:29.634383\n",
       "14    2021-09-25 11:54:34.700817\n",
       "15    2021-09-25 11:54:37.230167\n",
       "16    2021-09-25 11:57:51.633889\n",
       "17    2021-09-25 11:57:52.050275\n",
       "18    2021-09-25 11:57:52.465168\n",
       "19    2021-09-25 11:57:52.882109\n",
       "20    2021-09-25 11:57:53.283666\n",
       "21    2021-09-25 11:57:53.698868\n",
       "22    2021-09-25 11:57:54.113910\n",
       "23    2021-09-25 11:57:54.529534\n",
       "24    2021-09-25 11:57:54.944167\n",
       "25    2021-09-25 11:57:55.359633\n",
       "Name: Datetime, dtype: object"
      ]
     },
     "execution_count": 80,
     "metadata": {},
     "output_type": "execute_result"
    },
    {
     "data": {
      "image/png": "[encoded data removed]",
      "text/plain": [
       "<Figure size 432x288 with 1 Axes>"
      ]
     },
     "metadata": {
      "needs_background": "light"
     },
     "output_type": "display_data"
    },
    {
     "data": {
      "application/javascript": [
       "\n",
       "            setTimeout(function() {\n",
       "                var nbb_cell_id = 80;\n",
       "                var nbb_unformatted_code = \"fig = plt.figure()\\nax = fig.add_subplot(1, 1, 1)\\n\\n# dates = datetime.datetime.strptime(data[\\\"Datetime\\\"], \\\"%Y-%m%-d% %H:%M:%S\\\")\\ndata.Datetime\";\n",
       "                var nbb_formatted_code = \"fig = plt.figure()\\nax = fig.add_subplot(1, 1, 1)\\n\\n# dates = datetime.datetime.strptime(data[\\\"Datetime\\\"], \\\"%Y-%m%-d% %H:%M:%S\\\")\\ndata.Datetime\";\n",
       "                var nbb_cells = Jupyter.notebook.get_cells();\n",
       "                for (var i = 0; i < nbb_cells.length; ++i) {\n",
       "                    if (nbb_cells[i].input_prompt_number == nbb_cell_id) {\n",
       "                        if (nbb_cells[i].get_text() == nbb_unformatted_code) {\n",
       "                             nbb_cells[i].set_text(nbb_formatted_code);\n",
       "                        }\n",
       "                        break;\n",
       "                    }\n",
       "                }\n",
       "            }, 500);\n",
       "            "
      ],
      "text/plain": [
       "<IPython.core.display.Javascript object>"
      ]
     },
     "metadata": {},
     "output_type": "display_data"
    }
   ],
   "source": [
    "fig = plt.figure()\n",
    "ax = fig.add_subplot(1, 1, 1)\n",
    "\n",
    "# dates = datetime.datetime.strptime(data[\"Datetime\"], \"%Y-%m%-d% %H:%M:%S\")\n"
   ]
  }
 ],
 "metadata": {
  "kernelspec": {
   "display_name": "Python 3",
   "language": "python",
   "name": "python3"
  },
  "language_info": {
   "codemirror_mode": {
    "name": "ipython",
    "version": 3
   },
   "file_extension": ".py",
   "mimetype": "text/x-python",
   "name": "python",
   "nbconvert_exporter": "python",
   "pygments_lexer": "ipython3",
   "version": "3.8.5"
  },
  "varInspector": {
   "cols": {
    "lenName": 16,
    "lenType": 16,
    "lenVar": 40
   },
   "kernels_config": {
    "python": {
     "delete_cmd_postfix": "",
     "delete_cmd_prefix": "del ",
     "library": "var_list.py",
     "varRefreshCmd": "print(var_dic_list())"
    },
    "r": {
     "delete_cmd_postfix": ") ",
     "delete_cmd_prefix": "rm(",
     "library": "var_list.r",
     "varRefreshCmd": "cat(var_dic_list()) "
    }
   },
   "types_to_exclude": [
    "module",
    "function",
    "builtin_function_or_method",
    "instance",
    "_Feature"
   ],
   "window_display": false
  }
 },
 "nbformat": 4,
 "nbformat_minor": 4
}
