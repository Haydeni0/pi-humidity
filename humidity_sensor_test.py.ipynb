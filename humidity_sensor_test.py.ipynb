{
 "cells": [
  {
   "cell_type": "code",
   "execution_count": 13,
   "metadata": {},
   "outputs": [
    {
     "name": "stdout",
     "output_type": "stream",
     "text": [
      "21-09-22,21:09,2.0,1.0\r\n",
      "\n",
      "21-09-22,21:09,2.0,1.0\r\n",
      "\n",
      "21-09-22,21:09,2.0,1.0\r\n",
      "\n",
      "21-09-22,21:09,2.0,1.0\r\n",
      "\n",
      "21-09-22,21:09,2.0,1.0\r\n",
      "\n"
     ]
    },
    {
     "data": {
      "application/javascript": [
       "\n",
       "            setTimeout(function() {\n",
       "                var nbb_cell_id = 13;\n",
       "                var nbb_unformatted_code = \"import os\\nimport time\\n\\n# try:\\n#     f = open('/home/pi/humidity.csv', 'a+')\\n#     if os.stat('/home/pi/humidity.csv').st_size == 0:\\n#             f.write('Date,Time,Temperature,Humidity\\\\r\\\\n')\\n# except:\\n#     pass\\n\\nfor j in range(5):\\n    humidity, temperature = 1, 2\\n\\n    if humidity is not None and temperature is not None:\\n        print(f\\\"{time.strftime('%y-%m-%d')},{time.strftime('%H:%M')},{temperature:0.1f},{humidity:0.1f}\\\\r\\\\n\\\")\\n    else:\\n        print(\\\"Failed to retrieve data from humidity sensor\\\")\\npass\";\n",
       "                var nbb_formatted_code = \"import os\\nimport time\\n\\n# try:\\n#     f = open('/home/pi/humidity.csv', 'a+')\\n#     if os.stat('/home/pi/humidity.csv').st_size == 0:\\n#             f.write('Date,Time,Temperature,Humidity\\\\r\\\\n')\\n# except:\\n#     pass\\n\\nfor j in range(5):\\n    humidity, temperature = 1, 2\\n\\n    if humidity is not None and temperature is not None:\\n        print(\\n            f\\\"{time.strftime('%y-%m-%d')},{time.strftime('%H:%M')},{temperature:0.1f},{humidity:0.1f}\\\\r\\\\n\\\"\\n        )\\n    else:\\n        print(\\\"Failed to retrieve data from humidity sensor\\\")\\npass\";\n",
       "                var nbb_cells = Jupyter.notebook.get_cells();\n",
       "                for (var i = 0; i < nbb_cells.length; ++i) {\n",
       "                    if (nbb_cells[i].input_prompt_number == nbb_cell_id) {\n",
       "                        if (nbb_cells[i].get_text() == nbb_unformatted_code) {\n",
       "                             nbb_cells[i].set_text(nbb_formatted_code);\n",
       "                        }\n",
       "                        break;\n",
       "                    }\n",
       "                }\n",
       "            }, 500);\n",
       "            "
      ],
      "text/plain": [
       "<IPython.core.display.Javascript object>"
      ]
     },
     "metadata": {},
     "output_type": "display_data"
    }
   ],
   "source": [
    "import os\n",
    "import time\n",
    "\n",
    "# try:\n",
    "#     f = open('/home/pi/humidity.csv', 'a+')\n",
    "#     if os.stat('/home/pi/humidity.csv').st_size == 0:\n",
    "#             f.write('Date,Time,Temperature,Humidity\\r\\n')\n",
    "# except:\n",
    "#     pass\n",
    "\n",
    "for j in range(5):\n",
    "    humidity, temperature = 1, 2\n",
    "\n",
    "    if humidity is not None and temperature is not None:\n",
    "        print(f\"{time.strftime('%y-%m-%d')},{time.strftime('%H:%M')},{temperature:0.1f},{humidity:0.1f}\\r\\n\")\n",
    "    else:\n",
    "        print(\"Failed to retrieve data from humidity sensor\")\n",
    "pass\n"
   ]
  },
  {
   "cell_type": "code",
   "execution_count": null,
   "metadata": {},
   "outputs": [],
   "source": []
  }
 ],
 "metadata": {
  "kernelspec": {
   "display_name": "Python 3",
   "language": "python",
   "name": "python3"
  },
  "language_info": {
   "codemirror_mode": {
    "name": "ipython",
    "version": 3
   },
   "file_extension": ".py",
   "mimetype": "text/x-python",
   "name": "python",
   "nbconvert_exporter": "python",
   "pygments_lexer": "ipython3",
   "version": "3.8.5"
  },
  "varInspector": {
   "cols": {
    "lenName": 16,
    "lenType": 16,
    "lenVar": 40
   },
   "kernels_config": {
    "python": {
     "delete_cmd_postfix": "",
     "delete_cmd_prefix": "del ",
     "library": "var_list.py",
     "varRefreshCmd": "print(var_dic_list())"
    },
    "r": {
     "delete_cmd_postfix": ") ",
     "delete_cmd_prefix": "rm(",
     "library": "var_list.r",
     "varRefreshCmd": "cat(var_dic_list()) "
    }
   },
   "types_to_exclude": [
    "module",
    "function",
    "builtin_function_or_method",
    "instance",
    "_Feature"
   ],
   "window_display": false
  }
 },
 "nbformat": 4,
 "nbformat_minor": 4
}
